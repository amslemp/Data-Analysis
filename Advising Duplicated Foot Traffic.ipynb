{
 "cells": [
  {
   "cell_type": "markdown",
   "id": "81d44a6c",
   "metadata": {},
   "source": [
    "# Removing Duplicate Students From Foot Traffic\n",
    "\n",
    "In February 2019, I created an electronic sign-in sheet for the academic advising office foot traffic and launched it. For decades, the signin sheet was a paper form that recorded all the students who walked into the office, what they came in for, and the type of student they were. When I started data analysis, I transfered tens of thousands of students from the paper forms into electronic form in Excel. This was the only way to have the data be useful. Prior to my initiative, the data had never been aggregated by the college. It was recorded but not used to its fullest potential. The electronic signin sheet, obviously made my analysis much easier.\n",
    "\n",
    "A separate algorithm sets the data up to be analyized. That is the csv that is referenced in the beginning--\"Dashboard Setup.csv.\" One of the things the Director of Advising wanted to track was the workload of each advisor. As I dug into the data, it became clear very quickly that advisors had different entry patterns. Some would enter a student every time they interacted with them. For instance, an advisor could enter a students a half a dozen or a dozen times in a single week if they had multiple emails with the student. To address this, I wrote this algorithm to filter out duplicate students so that we could more accurately assess the number of students seen by each advisor. "
   ]
  },
  {
   "cell_type": "code",
   "execution_count": null,
   "id": "89a336ab",
   "metadata": {},
   "outputs": [],
   "source": [
    "import pandas as pd\n",
    "import numpy as np\n",
    "import re\n",
    "import sklearn"
   ]
  },
  {
   "cell_type": "code",
   "execution_count": null,
   "id": "cb9e3145",
   "metadata": {},
   "outputs": [],
   "source": [
    "#Import raw data that has been processed in 'Advising Foot Traffic' \n",
    "#notebook--'Dashboard Setup.csv'\n",
    "\n",
    "adv_raw = pd.read_csv('Dashboard Setup.csv')\n",
    "\n",
    "adv_raw['DATE'] = pd.to_datetime(adv_raw['DATE'])"
   ]
  },
  {
   "cell_type": "code",
   "execution_count": null,
   "id": "1d357f8f",
   "metadata": {},
   "outputs": [],
   "source": [
    "#extract week\n",
    "\n",
    "adv_raw['WEEK'] = adv_raw['DATE'].dt.isocalendar().week"
   ]
  },
  {
   "cell_type": "code",
   "execution_count": null,
   "id": "e580502f",
   "metadata": {},
   "outputs": [],
   "source": [
    "# Calculate the number of dupilcate names in the foot traffic data.\n",
    "len(adv_raw) - len(adv_raw.drop_duplicates(['MONTH', 'NAME', 'ADVISOR SIGN']))"
   ]
  },
  {
   "cell_type": "code",
   "execution_count": null,
   "id": "588d4ee1",
   "metadata": {},
   "outputs": [],
   "source": [
    "#This dataframe shows the counts of duplicates per month by advisor without\n",
    "#any additional filtering\n",
    "(pd.DataFrame(adv_raw[adv_raw.duplicated(['MONTH', 'NAME', 'ADVISOR SIGN'])]\n",
    "    .groupby('ADVISOR SIGN')['ID'].count()).rename(columns = {'ID':'COUNT'})\n",
    "    .reset_index().sort_values('COUNT', ascending = False)\n",
    "    .reset_index(drop = True))\n",
    ")"
   ]
  },
  {
   "cell_type": "code",
   "execution_count": null,
   "id": "40199670",
   "metadata": {},
   "outputs": [],
   "source": [
    "#This dataframe we take into account the 'distance' column. We isolate just \n",
    "#the instances in which there are no null values in the row. Null values\n",
    "#are either because there were appointments or because they were walkins.\n",
    "#This leaves us with a dataframe of 14705 interactions.\n",
    "\n",
    "#Out of that 14705, 2326 were duplicates. So these duplicates reflect\n",
    "#instances in which the advisor chose to keep entering the student when\n",
    "#they called or emailed them. Notice that some of your lower people who\n",
    "#had duplicates (those <= 20), drop completely off or down to low single \n",
    "#digits. \n",
    "\n",
    "mask = adv_raw['DISTANCE'].isnull() == False\n",
    "\n",
    "df2 = adv_raw[mask]\n",
    "\n",
    "adv_dups = (pd.DataFrame(df2[df2.duplicated(['MONTH', 'NAME', 'ADVISOR SIGN'])]\n",
    "             .groupby('ADVISOR SIGN')['ID'].count()).rename(columns = {'ID':'COUNT'})\n",
    "             .reset_index().sort_values('COUNT', ascending = False)\n",
    "             .reset_index(drop = True)\n",
    "           )\n",
    "\n",
    "adv_dups"
   ]
  },
  {
   "cell_type": "code",
   "execution_count": null,
   "id": "8ec5dd63",
   "metadata": {},
   "outputs": [],
   "source": [
    "#Below is a dataframe with all students an advisor assisted throughout a \n",
    "#year REGARDLESS OF DUPLICATION. \n",
    "all_adv = (pd.DataFrame(adv_raw.groupby('ADVISOR SIGN')['ID'].count())\n",
    "            .reset_index().rename(columns = {'ID':'COUNT'})\n",
    "            .sort_values('COUNT', ascending = False)\n",
    "            .reset_index(drop = True)\n",
    "          )\n",
    "\n",
    "all_adv"
   ]
  },
  {
   "cell_type": "code",
   "execution_count": null,
   "id": "8f4eaf94",
   "metadata": {},
   "outputs": [],
   "source": [
    "#Now we merge all of the signatures with the duplicated signatures\n",
    "all_and_dups = (all_adv.merge(adv_dups, how = 'left', on = 'ADVISOR SIGN')\n",
    "                       .rename(columns = {'COUNT_y':'DUPLICATED',\n",
    "                                         'COUNT_x':'FULL_COUNT'})\n",
    "                       .fillna(0)\n",
    "               )\n",
    "\n",
    "#clean up the dataframe to eliminate ['??', 'LEFT', '8:03']\n",
    "all_and_dups = all_and_dups[all_and_dups['ADVISOR SIGN'].isin(['??', 'LEFT', '8:03']) == False]\n",
    "\n",
    "#Calculate percent of the signatures from each advisor that are duplicated\n",
    "#students\n",
    "all_and_dups['PERC_OF_STUDENTS'] = round((all_and_dups['DUPLICATED']/all_and_dups['FULL_COUNT']) * 100, 3)\n",
    "\n",
    "#Sort from highest to lowest of percent of students that are duplicated \n",
    "#by each advisor\n",
    "all_and_dups = (all_and_dups.sort_values('PERC_OF_STUDENTS', ascending = False).reset_index(drop = True)\n",
    "                            .reset_index().rename(columns = {'index':'PERC_RANK'})\n",
    "                            .sort_values('FULL_COUNT', ascending = False).reset_index(drop = True)\n",
    "               )\n",
    "all_and_dups"
   ]
  },
  {
   "cell_type": "code",
   "execution_count": null,
   "id": "b6dd5a04",
   "metadata": {},
   "outputs": [],
   "source": [
    "#Only run through this cell once. Each time you run it, it will \n",
    "#add another to the ranking\n",
    "all_and_dups['PERC_RANK'] = all_and_dups['PERC_RANK'] + 1"
   ]
  },
  {
   "cell_type": "code",
   "execution_count": null,
   "id": "61e283f1",
   "metadata": {},
   "outputs": [],
   "source": [
    "all_and_dups = all_and_dups.reset_index().rename(columns = {'index':'RANK'})\n",
    "\n",
    "all_and_dups['RANK'] = all_and_dups['RANK'] + 1"
   ]
  },
  {
   "cell_type": "markdown",
   "id": "f701c594",
   "metadata": {},
   "source": [
    "One of the revelations of this analysis is that the advisor who assisted the second highest number of students, when considering hte raw count, had 15% of the students entered as duplicates, which draws that number way down. The second consideration is that advisors who oversee the advising email account will, by default, have far more students in their count than advisors who do not have access to that account. \n",
    "\n",
    "This analysis influenced the Director of Advising to put every advisor in the college in the advising email account because the workload was so drastically imbalanced. "
   ]
  },
  {
   "cell_type": "code",
   "execution_count": null,
   "id": "178a8484",
   "metadata": {},
   "outputs": [],
   "source": [
    "all_and_dups"
   ]
  },
  {
   "cell_type": "code",
   "execution_count": null,
   "id": "3f79e559",
   "metadata": {},
   "outputs": [],
   "source": []
  }
 ],
 "metadata": {
  "kernelspec": {
   "display_name": "Python 3 (ipykernel)",
   "language": "python",
   "name": "python3"
  },
  "language_info": {
   "codemirror_mode": {
    "name": "ipython",
    "version": 3
   },
   "file_extension": ".py",
   "mimetype": "text/x-python",
   "name": "python",
   "nbconvert_exporter": "python",
   "pygments_lexer": "ipython3",
   "version": "3.11.1"
  }
 },
 "nbformat": 4,
 "nbformat_minor": 5
}
