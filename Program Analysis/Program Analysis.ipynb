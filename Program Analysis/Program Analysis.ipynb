{
 "cells": [
  {
   "cell_type": "markdown",
   "id": "490de48e",
   "metadata": {},
   "source": [
    "# Major Fully Online Analysis\n",
    "\n",
    "Looking at just this last Fall 2023, I examined the proportion of students who were fully online verses those that were not fully online. Then I did some more nuanced research."
   ]
  },
  {
   "cell_type": "code",
   "execution_count": null,
   "id": "4f4a08b2",
   "metadata": {},
   "outputs": [],
   "source": [
    "import pandas as pd\n",
    "import numpy as np\n",
    "import matplotlib.pyplot as plt"
   ]
  },
  {
   "cell_type": "code",
   "execution_count": null,
   "id": "82718119",
   "metadata": {},
   "outputs": [],
   "source": [
    "# Load credit hour data. This is 20th-Day credit hour data \n",
    "# from Fall 2020 to Spring 2024\n",
    "df = pd.read_csv('FA20 to SP24 20th Day CrHr.csv')\n",
    "\n",
    "df.columns = [i.lower() for i in df.columns]\n",
    "\n",
    "df['term_id'] = [str(df['term'][i]) + df['id'][i] for i in range(len(df))]\n",
    "\n",
    "df = df[['id', 'term', 'term_id', 'totcr', 'stype', 'rescode', 'resd_desc', 'degree', 'majr_desc1', \n",
    "         'gender', 'mrtl','ethn_desc', 'cnty', 'pt', 'loc', 'crn', 'sub', 'crs', 'title', \n",
    "         'cr', 're', 'div', 'crs cd']]"
   ]
  },
  {
   "cell_type": "code",
   "execution_count": null,
   "id": "0b94705e",
   "metadata": {},
   "outputs": [],
   "source": [
    "# Calculate the number of seats filled for each semester in the dataset\n",
    "\n",
    "filt_df = df[df['majr_desc1'] == 'Criminal Justice']\n",
    "\n",
    "sem_seats_filled_cj =  (pd.DataFrame(filt_df.groupby('term')['id'].count())\n",
    "                          .reset_index()\n",
    "                          .rename(columns = {'id':'seats_filled'})\n",
    "                       )\n",
    "\n",
    "sem_seats_filled_all = (pd.DataFrame(df.groupby('term')['id'].count())\n",
    "                          .reset_index()\n",
    "                          .rename(columns = {'id':'seats_filled'})\n",
    "                       )\n",
    "\n",
    "sem_hc_cj = (pd.DataFrame(filt_df.groupby('term_id')\n",
    "                                 .first()\n",
    "                                 .reset_index()\n",
    "                                 .groupby('term')['id'].count())\n",
    "               .reset_index()\n",
    "            )\n",
    "\n",
    "sem_hc_all = (pd.DataFrame(df.groupby('term_id')\n",
    "                             .first()\n",
    "                             .reset_index()\n",
    "                             .groupby('term')['id'].count())\n",
    "                .reset_index()\n",
    "             )\n",
    "\n",
    "(sem_seats_filled_all\n",
    "     .merge(sem_seats_filled_cj, how = 'left', on = 'term')\n",
    "     .merge(sem_hc_all, how = 'left', on = 'term')\n",
    "     .merge(sem_hc_cj, how = 'left', on = 'term')\n",
    "     .rename(columns = {'term':'Semester',\n",
    "                        'seats_filled_x':'All Seats Filled',\n",
    "                        'seats_filled_y':'CJ Seats Filled',\n",
    "                        'id_x':'All Headcount',\n",
    "                        'id_y':'CJ Headcount'})\n",
    ")"
   ]
  },
  {
   "cell_type": "code",
   "execution_count": null,
   "id": "d19d7b46",
   "metadata": {},
   "outputs": [],
   "source": [
    "# Create filters for analysis\n",
    "mask1 = df['majr_desc1'] == 'Criminal Justice'\n",
    "mask2 = df['term'].isin([202080, 202110, 202180, 202210, 202280, 202310])\n",
    "\n",
    "# Apply filters\n",
    "cj_majors = df[mask2].reset_index(drop = True)\n",
    "\n",
    "#Create dictionary object for storing online only\n",
    "online_only = {}\n",
    "\n",
    "for i in cj_majors['term_id'].unique():\n",
    "    # Isolate each individual ID for each term\n",
    "    temp = cj_majors[cj_majors['term_id'] == i]\n",
    "    # Create object for storing list of locations of each class for each ID\n",
    "    temp_ls = []\n",
    "    for j in list(temp['loc']):\n",
    "        # If location is virtual (online) then label it as online\n",
    "        # else label it 'In_Person'\n",
    "        if j == 'V':\n",
    "            temp_ls.append('Online')\n",
    "        else:\n",
    "            temp_ls.append('In_Person')\n",
    "    # If 'In_Person' appears in the list of locations for each student\n",
    "    # even once, then label as \"Not Fully Online\", else label as \n",
    "    # 'Fully Online'\n",
    "    if 'In_Person' in temp_ls:\n",
    "        online_only[i] = \"Not Fully Online\"\n",
    "    else:\n",
    "        online_only[i] = \"Fully Online\""
   ]
  },
  {
   "cell_type": "markdown",
   "id": "363b8224",
   "metadata": {},
   "source": [
    "I vetted my programming above by looking through 20 separate student ID's to make sure that those labeled \"Fully Online\" were, indeed, fully online. Take special note when you do this that you will see some that initially appear to have an in-person class who are labeled as \"Fully Online.\" This is because they are in an online class that has a zoom session. Therefore, the programming is still correct. They are fully online. "
   ]
  },
  {
   "cell_type": "code",
   "execution_count": null,
   "id": "f63835b7",
   "metadata": {},
   "outputs": [],
   "source": [
    "# Examine Online with the ID\n",
    "(pd.DataFrame.from_dict(online_only, orient = 'index')\n",
    "   .reset_index()\n",
    "   .rename(columns = {'index':'id',\n",
    "                      0:'Online Status'})\n",
    ")"
   ]
  },
  {
   "cell_type": "code",
   "execution_count": null,
   "id": "e38068d9",
   "metadata": {},
   "outputs": [],
   "source": [
    "len(online_only)"
   ]
  },
  {
   "cell_type": "code",
   "execution_count": null,
   "id": "b3e7c5e3",
   "metadata": {},
   "outputs": [],
   "source": [
    "# Create object for storing the count of students who are labeled as \"Fully Online\"\n",
    "record = 0\n",
    "\n",
    "for i in list(online_only.values()):\n",
    "    if i == 'Fully Online':\n",
    "        record += 1\n",
    "    else:\n",
    "        record += 0\n",
    "\n",
    "# Divide the number of students who are fully online by the total number of possible students\n",
    "record/len(online_only)"
   ]
  },
  {
   "cell_type": "markdown",
   "id": "4d838efd",
   "metadata": {},
   "source": [
    "### Sub Analysis of <u>Proportion</u> Of Classes For Each CJ Major That Are Fully Online"
   ]
  },
  {
   "cell_type": "code",
   "execution_count": null,
   "id": "47e479b9",
   "metadata": {},
   "outputs": [],
   "source": [
    "mask1 = df['majr_desc1'] == 'Criminal Justice'\n",
    "mask2 = df['term'].isin([202080, 202110, 202180, 202210, 202280, 202310])\n",
    "\n",
    "cj_majors = df[mask1 & mask2].reset_index(drop = True)\n",
    "\n",
    "online_only = {}\n",
    "\n",
    "for i in cj_majors['term_id'].unique():\n",
    "    temp = cj_majors[cj_majors['term_id'] == i]\n",
    "    \n",
    "    temp_ls = []\n",
    "    for j in list(temp['loc']):\n",
    "        if j == 'V':\n",
    "            temp_ls.append('Online')\n",
    "        else:\n",
    "            temp_ls.append('In_Person')\n",
    "            \n",
    "    prop_online = 0\n",
    "    for k in temp_ls:\n",
    "        if k == 'Online':\n",
    "            prop_online += 1\n",
    "        else:\n",
    "            prop_online += 0\n",
    "    \n",
    "    online_only[i] = (prop_online/len(temp))"
   ]
  },
  {
   "cell_type": "code",
   "execution_count": null,
   "id": "1731e67f",
   "metadata": {},
   "outputs": [],
   "source": [
    "online_only\n",
    "output = None"
   ]
  },
  {
   "cell_type": "code",
   "execution_count": null,
   "id": "90d6d4d7",
   "metadata": {},
   "outputs": [],
   "source": [
    "# Object to store proportion of credits that are fully online\n",
    "proportions = []\n",
    "\n",
    "for i in list(online_only.values()):\n",
    "    if i >= 0.0 and i <= 0.25:\n",
    "        proportions.append('0% - 25%')\n",
    "    elif i > 0.25 and i <= 0.50:\n",
    "        proportions.append('25% - 50%')\n",
    "    elif i > 0.50 and i <= 0.75:\n",
    "        proportions.append('50% - 75%')\n",
    "    else:\n",
    "        proportions.append('75% - 100%')\n",
    "        \n",
    "# Convert list to a dataframe\n",
    "strat_online_cj = (pd.DataFrame(pd.Series(proportions))\n",
    "                    .reset_index()\n",
    "                    .rename(columns = {'index':'id',\n",
    "                                       0:'Proportion Online'})\n",
    "                  )\n",
    "                   \n",
    "# Group the stratified (strat) number of online credit hours and count frequency\n",
    "# which is just the headcount of students in each grouping\n",
    "prop_online_cj = (pd.DataFrame(strat_online_cj.groupby('Proportion Online')['id'].count())\n",
    "                    .reset_index()\n",
    "                    .rename(columns = {'id':'count'})\n",
    "                 )\n",
    "\n",
    "# Calculate the percentage of students who are in each\n",
    "prop_online_cj['% Rep'] = round(prop_online_cj['count']/prop_online_cj['count'].sum(), 4) * 100\n",
    "\n",
    "# Show dataframe\n",
    "prop_online_cj"
   ]
  },
  {
   "cell_type": "code",
   "execution_count": null,
   "id": "40624413",
   "metadata": {},
   "outputs": [],
   "source": [
    "import matplotlib.pyplot as plt\n",
    "\n",
    "# Create bar chart\n",
    "bars = plt.bar(prop_online_cj['Proportion Online'], \n",
    "               prop_online_cj['% Rep'], \n",
    "               color = '#800080', \n",
    "               edgecolor = '#996515')\n",
    "plt.xlabel('Proportion Of Classes Online')\n",
    "plt.ylabel('Percent Of Classes')\n",
    "plt.title('FA20 to SP23 Proportion Of Classes Online')\n",
    "\n",
    "# Add data labels\n",
    "for bar in bars:\n",
    "    height = bar.get_height()\n",
    "    plt.text(bar.get_x() + bar.get_width() / 2, \n",
    "             height, \n",
    "             str(round(height, 4)) + \"%\", \n",
    "             ha = 'center', \n",
    "             va = 'bottom')\n",
    "\n",
    "# Show plot\n",
    "plt.show()"
   ]
  },
  {
   "cell_type": "code",
   "execution_count": null,
   "id": "1a4b529c",
   "metadata": {},
   "outputs": [],
   "source": []
  }
 ],
 "metadata": {
  "kernelspec": {
   "display_name": "Python 3 (ipykernel)",
   "language": "python",
   "name": "python3"
  },
  "language_info": {
   "codemirror_mode": {
    "name": "ipython",
    "version": 3
   },
   "file_extension": ".py",
   "mimetype": "text/x-python",
   "name": "python",
   "nbconvert_exporter": "python",
   "pygments_lexer": "ipython3",
   "version": "3.11.1"
  }
 },
 "nbformat": 4,
 "nbformat_minor": 5
}
