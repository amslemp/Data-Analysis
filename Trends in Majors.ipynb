{
 "cells": [
  {
   "cell_type": "markdown",
   "id": "0f1a967e",
   "metadata": {},
   "source": [
    "# Major Change Analysis\n",
    "\n",
    "This was an interesting request from a Director of a program. One of the things we are always interested in in business analytics is retention of customers. Sometimes, a customer, in this case, students at a college, will stay with the organization but just switch what product they are interested in (i.e. switch majors). In this case, the customer is not *lost*, so to say, but rather has been retained, while switching to a new product. For Directors whose jobs might be somewhat contingent upon retention of customers, it is important to note who they brought in, that, while they may not have stayed with the original product, still stayed with the company or organization overall. Likewise, it is interesting to see the types of products a customer *starts with* who later switches to the Director's product (i.e. switches majors *to* the Director's majors). This kind of analysis can be good for starting to see trends on what products customers switch away to and what products customers switch from, all while staying within the organization. \n",
    "\n",
    "A secondary part of this analysis was to track the churn of the customer. There is always going to be a certain amount of loss from one period to another as well as a certain amount of new customers from one period to another. If one conducts a sloppy analysis, they might just look at how many customers where in a certain pipeline the previous period, how many are in it this period, and then subtract the current and previous to find the total \"gain.\" This would not be a proper analysis because it fails to take into consideration the churn of the customers from the previous to the current period. For instance, there is a set of programs at this college that sees about 30 students leave the college altogether, every semester, and then it gains about 45 new students. From the high level analysis, that is a gain of only 15 students, while in reality it is a gain of 45 new students (i.e. customers). Moreover, suppose that there was only a loss of 20 students but then a gain of 35, it would still look like a net gain of 15 students, when in reality, the new customers (students) are declining (from 45 to 35). Consequently, both of these analysis are important. "
   ]
  },
  {
   "cell_type": "code",
   "execution_count": null,
   "id": "bulgarian-contest",
   "metadata": {},
   "outputs": [],
   "source": [
    "import pandas as pd\n",
    "import numpy as np"
   ]
  },
  {
   "cell_type": "code",
   "execution_count": null,
   "id": "sunrise-athens",
   "metadata": {},
   "outputs": [],
   "source": [
    "# Load previous semeseter and current semester\n",
    "previous = pd.read_csv('202380 Enrollment.csv')\n",
    "current = pd.read_csv('202410 Enrollment.csv')\n",
    "\n",
    "# Alter column names to match\n",
    "previous = previous.rename(columns = {'STDTNO':'ID', 'DEGR':'DEGREE', 'CURTRM':'TERM', 'STYP':'STYPE',\\\n",
    "                           'RESD':'RESCODE', 'MIDDLE':'MI'})\n",
    "\n",
    "current = current.rename(columns = {'STDTNO':'ID', 'DEGR':'CUR_DEGREE', 'CURTRM':'CUR_TERM', 'STYP':'CUR_STYPE',\\\n",
    "                                    'RESD':'CUR_RESCODE', 'MIDDLE':'MI'})\n",
    "\n",
    "# Unify column headings\n",
    "previous.columns = [i.upper() for i in previous.columns]"
   ]
  },
  {
   "cell_type": "code",
   "execution_count": null,
   "id": "3e81632c",
   "metadata": {},
   "outputs": [],
   "source": [
    "# Load table of major codes with their descriptions\n",
    "majr_desc = pd.read_csv('Major Descriptions.csv')\n",
    "\n",
    "# Create dictionary of majors with their descriptions\n",
    "d_majrs = dict(zip(majr_desc['MAJR'], majr_desc['MAJR_DESC']))\n",
    "\n",
    "# Loop through previous and current semesters, connecting the major codes \n",
    "# with their major descriptions\n",
    "previous['MAJR_DESC1'] = ['Undeclared' if i == '0' else d_majrs.get(i) for i in previous['MAJR']]\n",
    "\n",
    "current['CUR_MAJR_DESC1'] = ['Undeclared' if i == '0' else d_majrs.get(i) for i in current['MAJR']]\n",
    "\n",
    "# Select only the columns needed for the analysis\n",
    "current = current[['ID', 'CUR_TERM', 'LNAME', 'FNAME', 'MI', 'CUR_STYPE', 'CUR_MAJR_DESC1']]\n",
    "\n",
    "previous = previous[['ID', 'TERM', 'LNAME', 'FNAME', 'MI', 'STYPE', 'MAJR_DESC1']]"
   ]
  },
  {
   "cell_type": "markdown",
   "id": "great-ottawa",
   "metadata": {},
   "source": [
    "**Creating a Dataframe of Previous and Current Semesters**"
   ]
  },
  {
   "cell_type": "code",
   "execution_count": null,
   "id": "quarterly-michigan",
   "metadata": {},
   "outputs": [],
   "source": [
    "#Merge the previous and current semesters\n",
    "newdf = previous.merge(current, how = 'left', on = ['ID', 'LNAME', 'FNAME', 'MI'])\n",
    "newdf['SAME_MAJR'] = newdf['MAJR_DESC1'] == newdf['CUR_MAJR_DESC1']\n",
    "\n",
    "#The function below will filter though whatever majors we wish, comparing the \n",
    "#previous semester majors with the current semester majors, spitting out a \n",
    "#pivot table showing students who shifted majors.\n",
    "\n",
    "def new_majr(df, majr_lst):\n",
    "    \"\"\"\n",
    "    df (pd.DataFrame()): This is the merged dataframe of previous semester left joined with the current semester\n",
    "    majr_list (list): List of major names you wish to filter by.\n",
    "    \n",
    "    \"\"\"\n",
    "    n_majr = df.copy()\n",
    "\n",
    "    filt_majr = n_majr[n_majr['MAJR_DESC1'].isin(majr_lst)].reset_index(drop = True)\n",
    "\n",
    "    cur_term = []\n",
    "    cur_stype = []\n",
    "    cur_majr_desc1 = []\n",
    "\n",
    "    for i in range(len(filt_majr)):\n",
    "        if filt_majr['CUR_TERM'].isnull()[i] == True:\n",
    "            cur_term.append('Did Not Return')\n",
    "        else:\n",
    "            cur_term.append(filt_majr['CUR_TERM'][i])\n",
    "        if filt_majr['CUR_STYPE'].isnull()[i] == True:\n",
    "            cur_stype.append('Did Not Return')\n",
    "        else:\n",
    "            cur_stype.append(filt_majr['CUR_STYPE'][i])\n",
    "        if filt_majr['CUR_MAJR_DESC1'].isnull()[i] == True:\n",
    "            cur_majr_desc1.append('Did Not Return')\n",
    "        else:\n",
    "            cur_majr_desc1.append(filt_majr['CUR_MAJR_DESC1'][i])\n",
    "\n",
    "    filt_majr['CUR_TERM'], filt_majr['CUR_STYPE'], filt_majr['CUR_MAJR_DESC1'] = cur_term, cur_stype, cur_majr_desc1\n",
    "\n",
    "    filt_majr = pd.DataFrame(filt_majr.groupby(['MAJR_DESC1', 'CUR_MAJR_DESC1'])['ID'].count()).reset_index()\\\n",
    "                                      .rename(columns = {'ID':'COUNT'})\n",
    "\n",
    "    filt_majr = filt_majr.pivot_table(values = 'COUNT', index = 'CUR_MAJR_DESC1', columns = 'MAJR_DESC1')\n",
    "\n",
    "    for i in filt_majr.columns:\n",
    "        filt_majr[i] = filt_majr[i].fillna(0).astype(int)\n",
    "\n",
    "    filt_majr['TOTAL'] = filt_majr.sum(axis = 1)\n",
    "\n",
    "    return filt_majr\n",
    "    \n",
    "#The program below will take a dataframe and output students from the previous semester\n",
    "#who **SWITCHED TO** the majors under consideration. Whereas the 'new_majr' program shows\n",
    "#how many students **SWITCHED AWAY** from the majors under consideration.\n",
    "\n",
    "def switched_to_majrs(df, majr_lst):\n",
    "    \"\"\"\n",
    "    df (pd.DataFrame): Dataframe that left joins the *current* semester with the previous semester (i.e. different than the\n",
    "                       newdf), which left joins *previous* semester with current.\n",
    "    majr_list (list): This is the same list that will be used in other functions. It is the list of majors you by which you\n",
    "                      wish to filter.\n",
    "    \"\"\"\n",
    "\n",
    "    majr_desc = []\n",
    "    stype = []\n",
    "    term = []\n",
    "    for i in range(len(df)):\n",
    "        if df['MAJR_DESC1'].isnull()[i] == True:\n",
    "            majr_desc.append('New Students')\n",
    "        else:\n",
    "            majr_desc.append(df['MAJR_DESC1'][i])\n",
    "        if df['STYPE'].isnull()[i] == True:\n",
    "            stype.append('New Students')\n",
    "        else:\n",
    "            stype.append(df['STYPE'][i])\n",
    "        if df['TERM'].isnull()[i] == True:\n",
    "            term.append('New Students')\n",
    "        else:\n",
    "            term.append(df['TERM'][i])\n",
    "\n",
    "    df['MAJR_DESC1'], df['STYPE'], df['TERM'] = majr_desc, stype, term\n",
    "\n",
    "    df['SAME_MAJR'] = df['CUR_MAJR_DESC1'] == df['MAJR_DESC1']\n",
    "\n",
    "    filt_majr = df[df['CUR_MAJR_DESC1'].isin(majr_lst)]\\\n",
    "                                       .reset_index(drop = True)\n",
    "    filt_majr = pd.DataFrame(filt_majr.groupby(['CUR_MAJR_DESC1', 'MAJR_DESC1'])['ID'].count()).reset_index()\\\n",
    "                              .rename(columns = {'ID':'COUNT'})\n",
    "\n",
    "    filt_majr = filt_majr.pivot_table(values = 'COUNT', index = 'MAJR_DESC1', columns = 'CUR_MAJR_DESC1')\n",
    "\n",
    "    for i in filt_majr.columns:\n",
    "        filt_majr[i] = filt_majr[i].fillna(0).astype(int)\n",
    "\n",
    "    filt_majr['TOTAL'] = filt_majr.sum(axis = 1)\n",
    "\n",
    "    return filt_majr"
   ]
  },
  {
   "cell_type": "code",
   "execution_count": null,
   "id": "colored-davis",
   "metadata": {},
   "outputs": [],
   "source": [
    "#Students not present in the current semester from previous semester.\n",
    "\n",
    "def left_college(df, majr_lst, curr_year):\n",
    "    \"\"\"\n",
    "    df (pd.DataFrame()): Dataframe of previous semester left joined with current semester.\n",
    "    majr_list (list): List of majors by which you wish to filter.\n",
    "    curr_year (int): Six digit semester code for current semester. \n",
    "    \n",
    "    \"\"\"\n",
    "    \n",
    "    left = df[(df['SAME_MAJR'] == False) & (df['CUR_TERM'] != curr_year)]\n",
    "\n",
    "    filt_majr2 = left[left['MAJR_DESC1'].isin(majr_lst)]\\\n",
    "                                        .reset_index(drop = True)\n",
    "    \n",
    "    filt_majr2 = pd.DataFrame(filt_majr2.groupby('MAJR_DESC1')['ID'].count())\\\n",
    "                                        .rename(columns = {'ID':'COUNT'}).reset_index()\\\n",
    "                                        .rename(columns = {'MAJR_DESC1':'LEFT COLLEGE'})\n",
    "    return filt_majr2"
   ]
  },
  {
   "cell_type": "code",
   "execution_count": null,
   "id": "4ba9fd8b",
   "metadata": {},
   "outputs": [],
   "source": [
    "#new = newdf[(newdf['SAME_MAJR'] == False) & (newdf['TERM'] != 202280)]\n",
    "    \n",
    "#filt_majr3 = new[new['CUR_MAJR_DESC1'].isin(['Prof Culinary Arts-Culinarian','Prof Culinary Arts-Sous Chef','Professional Culinary Arts','Hotel Management', 'Restaurant Management'])]\n",
    "    \n",
    "#filt_majr3"
   ]
  },
  {
   "cell_type": "code",
   "execution_count": null,
   "id": "sustained-hughes",
   "metadata": {},
   "outputs": [],
   "source": [
    "# newdf2 is a dataframe comparing *current* semester enrollees to the previous semester enrollees\n",
    "newdf2 = current.merge(previous, how = 'left', on = ['ID', 'LNAME', 'FNAME', 'MI'])\n",
    "newdf2['SAME_MAJR'] = newdf2['CUR_MAJR_DESC1'] == newdf2['MAJR_DESC1']\n",
    "\n",
    "#New students to select majors\n",
    "def new_student(df, majr_lst, prev_year):\n",
    "    \"\"\"\n",
    "    df (pd.DataFrame()): *Current* semester left joined with previous semester.\n",
    "    majr_list (list): List of majors by which you wish to filter.\n",
    "    prev_year (int): Six digit semester code of previous semester. \n",
    "    \n",
    "    \"\"\"\n",
    "    new = df[(df['SAME_MAJR'] == False) & (df['TERM'] != prev_year)]\n",
    "    \n",
    "    filt_majr3 = new[new['CUR_MAJR_DESC1'].isin(majr_lst)]\n",
    "    \n",
    "    filt_majr3 = pd.DataFrame(filt_majr3.groupby('CUR_MAJR_DESC1')['ID'].count())\\\n",
    "                                        .rename(columns = {'ID':'COUNT'}).reset_index()\\\n",
    "                                        .rename(columns = {'CUR_MAJR_DESC1':'NEW STUDENTS'})\n",
    "    return filt_majr3"
   ]
  },
  {
   "cell_type": "code",
   "execution_count": null,
   "id": "507404ef",
   "metadata": {},
   "outputs": [],
   "source": [
    "new = newdf2[(newdf2['SAME_MAJR'] == False) & (newdf2['TERM'] != 202010)]\n",
    "    \n",
    "filt_majr3 = new[new['CUR_MAJR_DESC1'].isin(['Culinary Arts','Hotel Management', 'Restaurant Management'])].reset_index(drop = True)\n",
    "\n",
    "filt_majr3\n",
    "\n",
    "output = None"
   ]
  },
  {
   "cell_type": "code",
   "execution_count": null,
   "id": "def61051",
   "metadata": {},
   "outputs": [],
   "source": [
    "left = newdf[(newdf['SAME_MAJR'] == False) & (newdf['CUR_TERM'] != 202080)]\n",
    "\n",
    "filt_majr2 = left[left['MAJR_DESC1'].isin(['Culinary Arts','Hotel Management', 'Restaurant Management'])]\\\n",
    "                                        .reset_index(drop = True)\n",
    "\n",
    "present = []\n",
    "for i in list(filt_majr3['ID']):\n",
    "    if i in list(filt_majr2['ID']):\n",
    "        present.append(i)\n",
    "    else:\n",
    "        present.append(\"Not Present\")\n",
    "        \n",
    "present\n",
    "\n",
    "ouput = None"
   ]
  },
  {
   "cell_type": "code",
   "execution_count": null,
   "id": "lonely-arabic",
   "metadata": {
    "scrolled": false
   },
   "outputs": [],
   "source": [
    "#Df of current majors and how many students are in each one. \n",
    "\n",
    "pd.DataFrame(newdf2.groupby('CUR_MAJR_DESC1')['ID'].count()).rename(columns = {'ID':'COUNT'}).reset_index()\\\n",
    "                                                   .sort_values('COUNT', ascending = False)[:50].reset_index(drop = True)\n",
    "#output = None"
   ]
  },
  {
   "cell_type": "code",
   "execution_count": null,
   "id": "cognitive-pride",
   "metadata": {},
   "outputs": [],
   "source": [
    "# Type in the majors you want to filter\n",
    "majors = ['Culinary Arts', 'Hotel Management', 'Restaurant Management']\n",
    "\n",
    "# The newdf is the dataframe that prioritizes the previous semester \n",
    "# over the current semester\n",
    "\n",
    "# The 'term' in this case needs to be the current semester term\n",
    "left_college(newdf, majors, 202410)\n",
    "\n",
    "#output = None"
   ]
  },
  {
   "cell_type": "code",
   "execution_count": null,
   "id": "operating-buffalo",
   "metadata": {},
   "outputs": [],
   "source": [
    "# newdf2 is the dataframe that prioritizes the current semester\n",
    "# over the previous semester\n",
    "\n",
    "# The 'term' needs to be the previous term\n",
    "new_student(newdf2, majors, 202380)"
   ]
  },
  {
   "cell_type": "code",
   "execution_count": null,
   "id": "waiting-enforcement",
   "metadata": {},
   "outputs": [],
   "source": [
    "n = new_majr(newdf, majors)\n",
    "n.loc[len(n.index)] = n.sum(axis = 0)\n",
    "idx = list(n.index)\n",
    "n.index = idx[:-1] + ['TOTAL']\n",
    "n"
   ]
  },
  {
   "cell_type": "code",
   "execution_count": null,
   "id": "correct-piano",
   "metadata": {},
   "outputs": [],
   "source": [
    "sm_mjr = current.merge(previous, how = 'left', on = ['ID', 'LNAME', 'FNAME', 'MI'])\n",
    "n2 = switched_to_majrs(sm_mjr, majors)\n",
    "n2.loc[len(n2.index)] = n2.sum(axis = 0)\n",
    "idx2 = list(n2.index)\n",
    "n2.index = idx2[:-1] + ['TOTAL']\n",
    "n2"
   ]
  },
  {
   "cell_type": "code",
   "execution_count": null,
   "id": "64daac0c",
   "metadata": {},
   "outputs": [],
   "source": []
  }
 ],
 "metadata": {
  "kernelspec": {
   "display_name": "Python 3 (ipykernel)",
   "language": "python",
   "name": "python3"
  },
  "language_info": {
   "codemirror_mode": {
    "name": "ipython",
    "version": 3
   },
   "file_extension": ".py",
   "mimetype": "text/x-python",
   "name": "python",
   "nbconvert_exporter": "python",
   "pygments_lexer": "ipython3",
   "version": "3.11.1"
  }
 },
 "nbformat": 4,
 "nbformat_minor": 5
}
