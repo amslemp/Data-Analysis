{
 "cells": [
  {
   "cell_type": "code",
   "execution_count": null,
   "id": "fc49a734",
   "metadata": {},
   "outputs": [],
   "source": [
    "import pandas as pd\n",
    "import numpy as np\n",
    "import warnings\n",
    "warnings.filterwarnings('ignore')"
   ]
  },
  {
   "cell_type": "code",
   "execution_count": null,
   "id": "b0bfef5a",
   "metadata": {},
   "outputs": [],
   "source": [
    "# Create paths\n",
    "file_path = 'Files/'\n",
    "\n",
    "# Download Semesters\n",
    "semesters = [201980, 202080, 202180, 202280, 202380]\n",
    "\n",
    "all_sems = []\n",
    "\n",
    "for i in semesters:\n",
    "    temp = pd.read_csv(file_path + str(i) + ' Demographic Data.csv')\n",
    "    all_sems.append(temp)\n",
    "\n",
    "hs_enrollment = (pd.concat(all_sems).reset_index(drop = True)\n",
    "                   .rename(columns = {'STDTID':'ID',\n",
    "                                      'TERMENTERED':'TERM'})\n",
    "                )\n",
    "\n",
    "hs_enrollment.columns = [i.lower() for i in hs_enrollment.columns]\n",
    "\n",
    "hs_enrollment['hsgraddte'] = pd.to_datetime(hs_enrollment['hsgraddte'])\n",
    "\n",
    "hs_enrollment['grad_year'] = hs_enrollment['hsgraddte'].dt.year.fillna(0).astype(int)\n"
   ]
  },
  {
   "cell_type": "markdown",
   "id": "22afd10f",
   "metadata": {},
   "source": [
    "### High School Dataframe\n",
    "\n",
    "*termcode* (int): Six digit integer term code. <br>\n",
    "*appnum* (int): Integer designating the number of times a student has applied <br>\n",
    "*bannerid* (string): Student banner ID, not the PIDM.<br>\n",
    "*lastname* (string): Lastname of student<br>\n",
    "*firstname* (string): Firstname of student.<br>\n",
    "*mi* (string): Middle name of student.<br>\n",
    "*gender* (string): Again unnecessary for what I'm doing here.<br>\n",
    "*ethndesc* (string): Description of ethnicitity. Again, redundant. Will use this instead of ethnic code.<br>\n",
    "*lgcydesc* (string): Description of legacy code. I will use this one. The other is redundant.<br> \n",
    "*statusdesc* (string): Designates if a decision has been made on application.<br>\n",
    "*admtdesc* (string): Designates how student applied (i.e. web admit, standard admit).<br>\n",
    "*stypcode* (string): Single alphabetical character denoting student type.<br>\n",
    "*resdcode* (string): Single alphabetical character denoting residency type.<br>\n",
    "*majrdesc1* (string): Full name of declared major.<br>"
   ]
  },
  {
   "cell_type": "code",
   "execution_count": null,
   "id": "c98c594a",
   "metadata": {},
   "outputs": [],
   "source": [
    "fall_hs = []\n",
    "\n",
    "for i in semesters:\n",
    "    temp = hs_enrollment[hs_enrollment['term'] == i].reset_index(drop=True)\n",
    "    for j in range(len(temp)):\n",
    "        if str(i)[:4] in str(temp['term'].iloc[j]) and str(temp['grad_year'].iloc[j]) == str(i)[:4]:\n",
    "            fall_hs.append('From HS')\n",
    "        else:\n",
    "            fall_hs.append('Not From HS')\n"
   ]
  },
  {
   "cell_type": "code",
   "execution_count": null,
   "id": "ab79932c",
   "metadata": {
    "scrolled": false
   },
   "outputs": [],
   "source": [
    "hs_enrollment['hs_matriculation'] = fall_hs\n"
   ]
  },
  {
   "cell_type": "code",
   "execution_count": null,
   "id": "d0361a57",
   "metadata": {},
   "outputs": [],
   "source": [
    "hs_enrollment.to_csv('High School Matriculation.csv', index = False)"
   ]
  },
  {
   "cell_type": "code",
   "execution_count": null,
   "id": "e031a15b",
   "metadata": {},
   "outputs": [],
   "source": [
    "(pd.DataFrame(hs_enrollment.groupby(['term', 'hs_matriculation'])['id'].count())\n",
    "   .reset_index()\n",
    "   .rename(columns = {'id':'cnt'})\n",
    "   .pivot_table(index = 'term', columns = 'hs_matriculation', values = 'cnt')\n",
    ")"
   ]
  },
  {
   "cell_type": "code",
   "execution_count": null,
   "id": "b8321340",
   "metadata": {},
   "outputs": [],
   "source": [
    "#hs_enrollment[hs_enrollment['hs_matriculation'] == 'From HS']"
   ]
  }
 ],
 "metadata": {
  "kernelspec": {
   "display_name": "Python 3 (ipykernel)",
   "language": "python",
   "name": "python3"
  },
  "language_info": {
   "codemirror_mode": {
    "name": "ipython",
    "version": 3
   },
   "file_extension": ".py",
   "mimetype": "text/x-python",
   "name": "python",
   "nbconvert_exporter": "python",
   "pygments_lexer": "ipython3",
   "version": "3.11.1"
  }
 },
 "nbformat": 4,
 "nbformat_minor": 5
}
