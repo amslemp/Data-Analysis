{
 "cells": [
  {
   "cell_type": "markdown",
   "id": "64a0c274",
   "metadata": {},
   "source": [
    "**`Data Pulled at 11:00am 1.8.25 Comparing Those Present In Fall 2024 With Those Enrolled in Spring 2025`**"
   ]
  },
  {
   "cell_type": "markdown",
   "id": "1f298010-3f1e-418f-9cb1-058f12ce4843",
   "metadata": {},
   "source": [
    "# Comparing Enrollment Of Previous Semester With Current Semester\n",
    "\n",
    "The main barometer of the successful efforts of the academic advising staff is whether *current* students reenroll for the next semester. Marketing and admissions are typically responsible for recruitment efforts. While this is not true at all Higher Ed institutions, it is true at most. Academic Advisors are responsible for making sure students understand school policies, are enrolled in the appropriate classes for their major, are taking courses in a strategic manner so as to knock out prerequisite courses first, and to help students learn how to balance personal, professional, and collegiate obligations. Typically, advisors do not have any direct impact on intake of *new students*. Since this is the case, I wrote the following algorithm to sort through students who were enrolled in the previous semester and compare them against the students who are enrolled in the current semester. When I first wrote the algorithm several years ago, I quickly realized that we needed to be clear about which students we were reaching out to for enrollment in the current semester from the previous semester. \n",
    "\n",
    "**Eligible Students**\n",
    "\n",
    "I realized that we needed to be clear about who the *eligible* students from the previous semester was. If I was not clear with that in my report to the Director of Advising and the VP of Enrollment Management, it would incorrectly communicate we had, say, 2700 students from one semester who had not enrolled when in reality we only 1500 *eligible* students who had not enrolled. There are some students who should not be in our list of *eligible* students. \n",
    "\n",
    "First, many colleges have an office that exclusively works with high school students--an office of High School Partnerships. Since there is an office that carries out that task, then high school students should be removed from the list because the academic advising staff is not responsible for those students. Every college also has a specific set of advisors who work with International Students. Given the myriad of laws these advisors are aware of and most follow, the general advising staff does not reach out to these students or have interaction with them. Therefore, international students are taken out of the mix. Every semester, some students graduate. These students, most of the time, are not continuing with the college. Therefore, to make sure that the outreach efforts reflect these students' accomplishments and graduation, they are removed from the eligible students who could enroll in the current semester. Finally, sometimes there are holds on students' accounts that prevent them from enrolling in the current semester--AR holds, Academic Suspension, TB Test Holds, and VP of Student Services holds. These students are also removed from the eligible students. \n",
    "\n",
    "Once these sets of filters are ran on the students from the previous semester as compared to those enrolled for the current semester, the final list can be pulled and distributed to advisors for outreach. This list shows the *eligible* students who have not yet enrolled for the current semester but were enrolled in the previous semester; it is used by the advising staff to try to encourage *current* students to reenroll for the new semester. These kinds of targeted outreach efforts have increased the persistence of continuing students up to 7% some semesters. "
   ]
  },
  {
   "cell_type": "code",
   "execution_count": null,
   "id": "undefined-seafood",
   "metadata": {},
   "outputs": [],
   "source": [
    "import pandas as pd\n",
    "import numpy as np\n",
    "\n",
    "from pathlib import Path\n",
    "import os\n",
    "\n",
    "import openpyxl\n",
    "import xlsxwriter\n",
    "\n",
    "from processing import (\n",
    "    select_term,\n",
    "    enrolled_for_upcoming,\n",
    "    final_df\n",
    ")\n",
    "\n",
    "import warnings\n",
    "warnings.filterwarnings('ignore')"
   ]
  },
  {
   "cell_type": "markdown",
   "id": "8ab9b502",
   "metadata": {},
   "source": [
    "## Parameters"
   ]
  },
  {
   "cell_type": "code",
   "execution_count": null,
   "id": "0f4e06f1-66e6-46f0-8f9a-5eeb0ec34486",
   "metadata": {},
   "outputs": [],
   "source": [
    "# File directory path\n",
    "DATA_PATH = Path.cwd().parent\n",
    "\n",
    "# ----------------------------------------------------------------\n",
    "# Excel file of last five semesters (fall or spring) created with \n",
    "# data cleaning and set up of credit hour report for BI reporting\n",
    "# ----------------------------------------------------------------\n",
    "SEM_DATAFRAME = 'SP21 - SP25 CrHr Enrollment.xlsx'\n",
    "\n",
    "# Upcoming semester code (six digit integer code)\n",
    "UPCOMING_TERM = 202510\n",
    "\n",
    "# csv of previous semester or semester that is in progress pulled from Argos\n",
    "PREVIOUS_SEM_ENROLLMENT = '202480 Enrollment.csv'\n",
    "\n",
    "# Major List\n",
    "MAJR_LIST = 'Major Descriptions.csv'\n",
    "\n",
    "# Holds data pulled from Argos. Should be holds for semester that is \n",
    "# currently in progress or just completed\n",
    "HOLDS_DATA = '202480 Holds and Phone Numbers.csv'\n",
    "\n",
    "# Semester that just completed or is currently in progress graduation data\n",
    "# This is pulled from Banner through PL/SQL\n",
    "GRAD_DATA = 'FA24 Graduates.csv'\n",
    "\n",
    "# Create saved file names\n",
    "ELIGIBLE_STUDENTS_XLSX_FILE = '202480 Not Enrolled in 202510.xlsx'\n",
    "ELIGIBLE_STUDENTS_XLSX_FILE_MASTER = '202480 Not Enrolled in 202510 Master DF.xlsx'"
   ]
  },
  {
   "cell_type": "code",
   "execution_count": null,
   "id": "770d9e05",
   "metadata": {},
   "outputs": [],
   "source": [
    "# Download last five fall or spring semesters from daily dashboard update\n",
    "enrollments = (pd.read_excel(f'{DATA_PATH}/{SEM_DATAFRAME}')\n",
    "                 .rename(columns = str.upper)\n",
    "              )"
   ]
  },
  {
   "cell_type": "code",
   "execution_count": null,
   "id": "7856b1c8",
   "metadata": {},
   "outputs": [],
   "source": [
    "# Isolate the unique IDs from Fall or Spring dataframe\n",
    "unique_enroll = pd.DataFrame(enrollments.groupby('TERMID').first()).reset_index()\n",
    "\n",
    "# load semester that is about to start ('upcoming')\n",
    "upcoming = select_term(unique_enroll, UPCOMING_TERM)\n",
    "\n",
    "# Load previous semester that just ended or is still in progres\n",
    "previous = (pd.read_csv(f'{DATA_PATH}/{PREVIOUS_SEM_ENROLLMENT}', encoding = 'cp1252')\n",
    "              .rename(columns = {'STDTNO':'ID', 'CURTRM':'TERM', 'MIDDLE':'MI',\n",
    "                                'DEGR':'DEGCODE','PROGR':'PROGRAM','STYP':'STYPE',\n",
    "                                'RESD':'RESCODE'})\n",
    "           )\n",
    "\n",
    "#Major Descriptions\n",
    "majr_desc = pd.read_csv(f'{DATA_PATH}/{MAJR_LIST}')\n",
    "\n",
    "#Major Description Dictionary\n",
    "majr_desc_d = dict(zip(list(majr_desc['MAJR']), list(majr_desc['MAJR_DESC'])))"
   ]
  },
  {
   "cell_type": "code",
   "execution_count": null,
   "id": "knowing-reasoning",
   "metadata": {},
   "outputs": [],
   "source": [
    "#Combine dataframes\n",
    "compared_enrollment = (enrolled_for_upcoming(previous, upcoming)\n",
    "                           .rename(columns = str.upper)\n",
    "                      )"
   ]
  },
  {
   "cell_type": "code",
   "execution_count": null,
   "id": "ef2a2899",
   "metadata": {},
   "outputs": [],
   "source": [
    "#Remove International Students\n",
    "compared_enrollment = (compared_enrollment[compared_enrollment['RESCODE'] != 'I']\n",
    "                       [['ID', 'TERM', 'FNAME', 'LNAME', 'STYPE', 'DEGCODE', 'MAJR', 'ENROLLED']]\n",
    "                      )"
   ]
  },
  {
   "cell_type": "code",
   "execution_count": null,
   "id": "identical-alignment",
   "metadata": {},
   "outputs": [],
   "source": [
    "#Add major descriptions\n",
    "compared_enrollment['MAJR_DESC'] = [majr_desc_d.get(i) for i in compared_enrollment['MAJR']]\n",
    "compared_enrollment['MAJR_DESC'] = compared_enrollment['MAJR_DESC'].fillna(\"WD Before EOT\")"
   ]
  },
  {
   "cell_type": "code",
   "execution_count": null,
   "id": "developmental-fields",
   "metadata": {},
   "outputs": [],
   "source": [
    "#Create dataframe that shows count of number of students\n",
    "#from previous semester who are enrolled in upcoming semester.\n",
    "tot_enrolled = (pd.DataFrame(compared_enrollment.groupby('ENROLLED')['ID'].count())\n",
    "                  .rename(columns = {'ID':'COUNT'})\n",
    "                  .reset_index()\n",
    "               )\n",
    "\n",
    "print('Total # of Students = ', tot_enrolled['COUNT'].sum(), \n",
    "      f\"\\n% of Prev Sem Enrolled = {round((tot_enrolled.iloc[0, 1] / tot_enrolled['COUNT'].sum()) * 100, 2)}\\n\", sep = \"\")\n",
    "\n",
    "print(tot_enrolled)\n",
    "\n",
    "##    enrolled     count\n",
    "## 0  Enrolled      4110\n",
    "## 1  Not Enrolled  2600\n",
    "##    Total         6710 (no International)"
   ]
  },
  {
   "cell_type": "code",
   "execution_count": null,
   "id": "shared-generic",
   "metadata": {},
   "outputs": [],
   "source": [
    "#This data is pulled from the ZSHOLDS in Argos from the current term.\n",
    "holds = (pd.read_csv(f'{DATA_PATH}/{HOLDS_DATA}')\n",
    "           .rename(columns = str.upper)\n",
    "           .rename(columns = {\"STUDENTID\":\"ID\"})\n",
    "        )\n",
    "\n",
    "final = final_df(compared_enrollment, holds).sort_values('MAJR').reset_index(drop = True)\n",
    "\n",
    "final = (final[final['ENROLLED'] == 'Not Enrolled']\n",
    "             .sort_values('MAJR', axis = 0)\n",
    "             .reset_index(drop = True)\n",
    "        )\n",
    "#Out of the students who are not enrolled from Spring 2025, 492  \n",
    "#Have some form of a hold on their accounts. This leaves 2159 students from \n",
    "#Fall 2024 who are not enrolled for Spring 2025.\n",
    "final = final[final['HOLDS'].isin(['A/R Hold', 'TB Test Hold', 'Acad Sus Hold', 'Hold-VP Stdt Svcs']) == False]\n"
   ]
  },
  {
   "cell_type": "code",
   "execution_count": null,
   "id": "7f196a23",
   "metadata": {},
   "outputs": [],
   "source": [
    "# This only produces the correct result if you switch the \"final\" object in the cell above from == False to == True\n",
    "\n",
    "#final[final['MAJR'].isin(['CLAR', 'HOMG', 'HORM'])].sort_values('HOLDS').reset_index(drop = True)\\\n",
    "#  .to_csv('ELED, BEST Students With Holds FA23.csv', index = False)"
   ]
  },
  {
   "cell_type": "code",
   "execution_count": null,
   "id": "11f1649a",
   "metadata": {},
   "outputs": [],
   "source": [
    "final\n",
    "Output = None\n",
    "print(\"There are \" + str(tot_enrolled.iloc[1, 1] - len(final)) + \" students with holds on their accounts.\")\n",
    "print(len(final))"
   ]
  },
  {
   "cell_type": "markdown",
   "id": "186918bf",
   "metadata": {},
   "source": [
    "### Retrieving Graduates\n",
    "\n",
    "I added to the filter .isin(['AW', 'RT', 'PN']) the 'PN' which is for \"Pending\" because we are going to assume the majority of these students will graduate. 'AW' is 'Awarded' and 'RT' is 'Reverse Transfer.'"
   ]
  },
  {
   "cell_type": "code",
   "execution_count": null,
   "id": "nasty-document",
   "metadata": {},
   "outputs": [],
   "source": [
    "#Import graduates\n",
    "grads = (pd.read_csv(f'{DATA_PATH}/{GRAD_DATA}')\n",
    "           .rename(columns = str.upper)\n",
    "           .rename(columns = {'STUDENTID':'ID'})\n",
    "           .query(\"STS in ['AW', 'RT','PN']\")\n",
    "           [['ID', 'STS']]\n",
    "        )\n",
    "\n",
    "#Merge Graduates with final\n",
    "final = (final.merge(grads, how = 'left', on = 'ID')\n",
    "              .drop_duplicates('ID')\n",
    "              .query(\"STS.isnull()\")\n",
    "              .reset_index(drop = True)\n",
    "        )"
   ]
  },
  {
   "cell_type": "code",
   "execution_count": null,
   "id": "05e049d5",
   "metadata": {},
   "outputs": [],
   "source": [
    "print(\"There are \" + str(len(final[final['STYPE'] == \"H\"])) + \" High School Students unenrolled.\")\n",
    "print(\"And there are \" + str(len(grads)) + \" graduates for Fall 2024 that were removed.\")\n",
    "\n",
    "# There are 403 High School Students unenrolled.\n",
    "# And there are 412 graduates for Fall 2024 that were removed."
   ]
  },
  {
   "cell_type": "code",
   "execution_count": null,
   "id": "34216cd3",
   "metadata": {},
   "outputs": [],
   "source": [
    "# Filter out High School Students\n",
    "final = final[final['STYPE'] != 'H'].reset_index(drop = True)"
   ]
  },
  {
   "cell_type": "code",
   "execution_count": null,
   "id": "c1834c22",
   "metadata": {},
   "outputs": [],
   "source": [
    "print(\"There are \" + str(len(final)) + \" students who have no holds, have not graduated, \\\n",
    "and are not high school students that still have not enrolled for Spring 2025.\", '\\n\\n',\n",
    "     'This means there are ', str(round(len(final)/tot_enrolled['COUNT'].sum() * 100, 2)), '% of Fall students \\\n",
    "that are eligible to reenroll but have not.', sep = '')\n",
    "\n",
    "# There are 1412 students who have no holds, have not graduated, \n",
    "# and are not high school students that still have not enrolled for Spring 2025.\n",
    "\n",
    "#This means there are 21.04% of Spring students that are eligible to reenroll but have not."
   ]
  },
  {
   "cell_type": "markdown",
   "id": "0a9c09a1",
   "metadata": {},
   "source": [
    "### Remove Unusable Marks\n",
    "\n",
    "It will not allow exportation of the file if there is a '/' or ':' in the major description. Therefore, I replaced that as shown below. I actually had to change out the .replace() method--once for (r':', ' ') and once for (r'/', ' '). There is certainly a more efficient way to do this. "
   ]
  },
  {
   "cell_type": "code",
   "execution_count": null,
   "id": "cb779628",
   "metadata": {},
   "outputs": [],
   "source": [
    "final['MAJR_DESC'] = final['MAJR_DESC'].replace(\n",
    "    {\n",
    "        r':': ' ',\n",
    "        r'/': ' ',\n",
    "        r'Early Childhood Business Administration': 'Early Child Bus Admin',\n",
    "        r'Secondary Education Social Science': 'Sec Ed Soc Sci',\n",
    "        r'eSports Digital Events Management': 'eSports'\n",
    "    }, regex=True)"
   ]
  },
  {
   "cell_type": "code",
   "execution_count": null,
   "id": "rolled-giant",
   "metadata": {},
   "outputs": [],
   "source": [
    "#First, split the data into a dataframe list\n",
    "dfls = []\n",
    "for i in sorted(final['MAJR_DESC'].unique()):\n",
    "    temp = final[final['MAJR_DESC'] == i]\n",
    "    dfls.append(temp)\n",
    "\n",
    "Excelwriter = pd.ExcelWriter(ELIGIBLE_STUDENTS_XLSX_FILE, engine = 'xlsxwriter')\n",
    "\n",
    "for df in dfls:\n",
    "    sheet = list(df['MAJR_DESC'].unique())[0]\n",
    "    df.to_excel(Excelwriter, sheet_name = sheet, index = False)\n",
    "\n",
    "Excelwriter.close()"
   ]
  },
  {
   "cell_type": "code",
   "execution_count": null,
   "id": "center-consciousness",
   "metadata": {},
   "outputs": [],
   "source": [
    "# I also want to print off a master sheet to excel that I can merge into the workbook\n",
    "# with all of the majors split into separate sheets.\n",
    "\n",
    "final.to_excel(ELIGIBLE_STUDENTS_XLSX_FILE_MASTER, index = False, header=True)\n"
   ]
  },
  {
   "cell_type": "code",
   "execution_count": null,
   "id": "55d7b38e",
   "metadata": {
    "scrolled": true
   },
   "outputs": [],
   "source": [
    "# Filter by major\n",
    "def filter_by_major(df, column, select):\n",
    "    \n",
    "    filt = df[column].isin(select)\n",
    "    new_df = df[filt].reset_index(drop = True)\n",
    "    \n",
    "    return new_df\n",
    "\n",
    "# Parameters\n",
    "col = 'MAJR_DESC'\n",
    "selection = ['Culinary Arts', 'Hotel Management', 'Restaurant Management', 'Cul Arts (ACF Cert  Sous Chef)', \n",
    "             'Cul Arts (ACT Cert  Cul)']\n",
    "\n",
    "# Run function\n",
    "(filter_by_major(final, col, selection)\n",
    "     .fillna('')\n",
    ")"
   ]
  },
  {
   "cell_type": "code",
   "execution_count": null,
   "id": "2c892492-2a49-4b20-9703-0296e05cfc72",
   "metadata": {},
   "outputs": [],
   "source": []
  }
 ],
 "metadata": {
  "kernelspec": {
   "display_name": "Python 3 (ipykernel)",
   "language": "python",
   "name": "python3"
  },
  "language_info": {
   "codemirror_mode": {
    "name": "ipython",
    "version": 3
   },
   "file_extension": ".py",
   "mimetype": "text/x-python",
   "name": "python",
   "nbconvert_exporter": "python",
   "pygments_lexer": "ipython3",
   "version": "3.10.14"
  }
 },
 "nbformat": 4,
 "nbformat_minor": 5
}
