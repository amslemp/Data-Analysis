{
 "cells": [
  {
   "cell_type": "markdown",
   "id": "c31edb47",
   "metadata": {},
   "source": [
    "# Comparing Enrollment Of Previous Semester With Current Semester\n",
    "\n",
    "The main barometer of the successful efforts of the academic advising staff is whether *current* students reenroll for the next semester. Marketing and admissions are typically responsible for recruitment efforts. While this is not true at all Higher Ed institutions, it is true at most. Academic Advisors are responsible for making sure students understand school policies, are enrolled in the appropriate classes for their major, are taking courses in a strategic manner so as to knock out prerequisite courses first, and to help students learn how to balance personal, professional, and collegiate obligations. Typically, advisors do not have any direct impact on intake of *new students*. Since this is the case, I wrote the following algorithm to sort through students who were enrolled in the previous semester and compare them against the students who are enrolled in the current semester. When I first wrote the algorithm several years ago, I quickly realized that we needed to be clear about which students we were reaching out to for enrollment in the current semester from the previous semester. \n",
    "\n",
    "**Eligible Students**\n",
    "\n",
    "I realized that we needed to be clear about who the *eligible* students from the previous semester was. If I was not clear with that in my report to the Director of Advising and the VP of Enrollment Management, it would incorrectly communicate we had, say, 2700 students from one semester who had not enrolled when in reality we only 1500 *eligible* students who had not enrolled. There are some students who should not be in our list of *eligible* students. \n",
    "\n",
    "First, many colleges have an office that exclusively works with high school students--an office of High School Partnerships. Since there is an office that carries out that task, then high school students should be removed from the list because the academic advising staff is not responsible for those students. Every college also has a specific set of advisors who work with International Students. Given the myriad of laws these advisors are aware of and most follow, the general advising staff does not reach out to these students or have interaction with them. Therefore, international students are taken out of the mix. Every semester, some students graduate. These students, most of the time, are not continuing with the college. Therefore, to make sure that the outreach efforts reflect these students' accomplishments and graduation, they are removed from the eligible students who could enroll in the current semester. Finally, sometimes there are holds on students' accounts that prevent them from enrolling in the current semester--AR holds, Academic Suspension, TB Test Holds, and VP of Student Services holds. These students are also removed from the eligible students. \n",
    "\n",
    "Once these sets of filters are ran on the students from the previous semester as compared to those enrolled for the current semester, the final list can be pulled and distributed to advisors for outreach. This list shows the *eligible* students who have not yet enrolled for the current semester but were enrolled in the previous semester; it is used by the advising staff to try to encourage *current* students to reenroll for the new semester. These kinds of targeted outreach efforts have increased the persistence of continuing students up to 7% some semesters. "
   ]
  },
  {
   "cell_type": "markdown",
   "id": "64a0c274",
   "metadata": {},
   "source": [
    "### Data Pulled At hh:mm on MM.DD.YY For Previous And Current Semester\n",
    "\n",
    "Best practice is to always record when data is pulled from the database because it is dynamic. This helps to address questions when someone else pulls data later in the day or a different day altogether. Moreover, it gives me a record of when the last time is that I pulled the data and ran the report. \n",
    "\n",
    "The data is pulled directly from the Banner DB, a product of Oracle, using PL/SQL that I write. Then the csv files are uploaded here. "
   ]
  },
  {
   "cell_type": "code",
   "execution_count": null,
   "id": "undefined-seafood",
   "metadata": {},
   "outputs": [],
   "source": [
    "import pandas as pd\n",
    "import numpy as np\n",
    "import openpyxl\n",
    "import xlsxwriter"
   ]
  },
  {
   "cell_type": "code",
   "execution_count": null,
   "id": "accepting-cooperation",
   "metadata": {},
   "outputs": [],
   "source": [
    "upcoming = (pd.read_csv('202380 Enrollment.csv')\n",
    "              .rename(columns = {'STDTNO':'ID', 'CURTRM':'TERM', 'MIDDLE':'MI',\n",
    "                                 'DEGR':'DEGCODE','PROGR':'PROGRAM','STYP':'STYPE',\n",
    "                                 'RESD':'RESCODE'})\n",
    "           )\n",
    "\n",
    "previous = (pd.read_csv('202310 Enrollment.csv', encoding = 'cp1252')\n",
    "              .rename(columns = {'STDTNO':'ID', 'CURTRM':'TERM', 'MIDDLE':'MI',\n",
    "                                 'DEGR':'DEGCODE','PROGR':'PROGRAM','STYP':'STYPE',\n",
    "                                 'RESD':'RESCODE'})\n",
    "           )\n",
    "\n",
    "#Major Descriptions\n",
    "majr_desc = pd.read_csv('Major Descriptions.csv')\n",
    "\n",
    "#Major Description Dictionary\n",
    "majr_desc_d = dict(zip(list(majr_desc['MAJR']), list(majr_desc['MAJR_DESC'])))\n",
    "\n",
    "def enrolled_for_upcoming(previous, upcoming):\n",
    "    df = previous.copy()\n",
    "\n",
    "    #Change all column headings in both datasets to lowercase.\n",
    "    \n",
    "    prev_cols = [i.lower() for i in previous.columns]\n",
    "    up_cols = [i.lower() for i in upcoming.columns]\n",
    "\n",
    "    previous.columns, upcoming.columns = prev_cols, up_cols\n",
    "\n",
    "    #Compare upcoming semester enrolled to previous semester enrolled, account \n",
    "    #for who is missing from upcoming that was enrolled for previous.\n",
    "\n",
    "    up_ids = list(upcoming['id'])\n",
    "\n",
    "    enrolled = []\n",
    "\n",
    "    for i in previous['id']:\n",
    "        if i in up_ids:\n",
    "            enrolled.append('Enrolled')\n",
    "        else:\n",
    "            enrolled.append('Not Enrolled')\n",
    "\n",
    "    #Add enrolled column to previous dataframe (copy {df}).\n",
    "\n",
    "    df['enrolled'] = enrolled\n",
    "    \n",
    "    return df"
   ]
  },
  {
   "cell_type": "code",
   "execution_count": null,
   "id": "knowing-reasoning",
   "metadata": {},
   "outputs": [],
   "source": [
    "#Combine dataframes\n",
    "\n",
    "df = enrolled_for_upcoming(previous, upcoming)\n",
    "df.columns = [i.upper() for i in df.columns]"
   ]
  },
  {
   "cell_type": "code",
   "execution_count": null,
   "id": "3fdf885b",
   "metadata": {},
   "outputs": [],
   "source": [
    "df.head()"
   ]
  },
  {
   "cell_type": "code",
   "execution_count": null,
   "id": "ef2a2899",
   "metadata": {},
   "outputs": [],
   "source": [
    "#Remove International Students\n",
    "df = df[df['RESCODE'] != 'I']"
   ]
  },
  {
   "cell_type": "code",
   "execution_count": null,
   "id": "identical-alignment",
   "metadata": {},
   "outputs": [],
   "source": [
    "df = df[['ID', 'TERM', 'FNAME', 'LNAME', 'STYPE', 'DEGCODE', 'MAJR', 'ENROLLED']]\n",
    "\n",
    "#Add major descriptions\n",
    "\n",
    "df['MAJR_DESC'] = [majr_desc_d.get(i) for i in df['MAJR']]\n",
    "df['MAJR_DESC'] = df['MAJR_DESC'].fillna(\"WD Before EOT\")"
   ]
  },
  {
   "cell_type": "code",
   "execution_count": null,
   "id": "developmental-fields",
   "metadata": {},
   "outputs": [],
   "source": [
    "#Create dataframe that shows count of number of students\n",
    "#from previous semester who are enrolled in upcoming semester.\n",
    "\n",
    "tot_enrolled = (pd.DataFrame(df.groupby('ENROLLED')['ID'].count())\n",
    "                  .rename(columns = {'ID':'COUNT'})\n",
    "                  .reset_index()\n",
    "               )\n",
    "\n",
    "tot_enrolled"
   ]
  },
  {
   "cell_type": "code",
   "execution_count": null,
   "id": "shared-generic",
   "metadata": {},
   "outputs": [],
   "source": [
    "#This data is pulled from the ZSHOLDS in Argos from the current term.\n",
    "\n",
    "phone = pd.read_csv('202310 Holds and Phone Numbers.csv')\n",
    "phone_cols = [i.upper() for i in list(phone.columns)]\n",
    "phone.columns = phone_cols\n",
    "phone = phone.rename(columns = {'STUDENTID':'ID'})\n",
    "\n",
    "def final_df(main_df, phone):\n",
    "    \n",
    "    holds = []\n",
    "\n",
    "    for i, j, k, l in zip(phone['AR_Holds'], phone['AcadSusHolds'], phone['TBHolds'], phone['VPStudServHolds']):\n",
    "        if i == 'Y':\n",
    "            holds.append('A/R Hold')\n",
    "        elif j == 'Y':\n",
    "            holds.append('Acad Sus Hold')\n",
    "        elif k == 'Y':\n",
    "            holds.append('TB Test Hold')\n",
    "        elif l == 'Y':\n",
    "            holds.append('VP Stdt Svcs')\n",
    "        else:\n",
    "            holds.append(\"\")\n",
    "\n",
    "    phone['HOLDS'] = holds\n",
    "\n",
    "    phone = phone[['ID', 'PRPHONE', 'BRPHONE', 'CARPHONE', 'EMAIL', 'OTHEREMAIL', 'HOLDS']]\n",
    "\n",
    "    final = main_df.merge(phone, how = 'left', on = 'ID').drop_duplicates('ID')\\\n",
    "                   .reset_index(drop = True)\n",
    "    return final\n",
    "\n",
    "final = final_df(df, phone).sort_values('MAJR').reset_index(drop = True)\n",
    "\n",
    "final = final[final['ENROLLED'] == 'Not Enrolled'].sort_values('MAJR', axis = 0)\\\n",
    "                                                  .reset_index(drop = True)\n",
    "\n",
    "#Out of the students who are not enrolled from Fall 2023, ### \n",
    "#Have some form of a hold on their accounts. This leaves #### students from \n",
    "#Fall 2023 who are not enrolled for Spring 2024.\n",
    "\n",
    "final = final[final['HOLDS'].isin(['A/R Hold', 'TB Test Hold', 'Acad Sus Hold', 'Hold-VP Stdt Svcs']) == False]"
   ]
  },
  {
   "cell_type": "code",
   "execution_count": null,
   "id": "11f1649a",
   "metadata": {},
   "outputs": [],
   "source": [
    "print(\"There are \" + str(tot_enrolled.iloc[1, 1] - len(final)) + \" students with holds on their accounts.\")\n",
    "print(len(final))"
   ]
  },
  {
   "cell_type": "markdown",
   "id": "186918bf",
   "metadata": {},
   "source": [
    "### Retrieving Graduates\n",
    "\n",
    "For some reason, I was not able to retrieve the ZSGRAD1 from the Registrar Office > Graduation folder while in Firefox. I had to open up Microsoft Edge and log into Argos from there, access the folder, and then select the beginning date at the beginning of the semester, the end date at the end of the semester, the effective term as the current term, and then use the \"Reports\" drop down and \"Run.\" Even though there was nothing populated in the Argos Web Viewer, the csv had the graduates in it. \n",
    "\n",
    "A second note, I added to the filter .isin(['AW', 'RT', 'PN']) the 'PN' which is for \"Pending\" because we are going to assume the majority of these students will graduate. 'AW' is 'Awarded' and 'RT' is 'Reverse Transfer.'"
   ]
  },
  {
   "cell_type": "code",
   "execution_count": null,
   "id": "nasty-document",
   "metadata": {},
   "outputs": [],
   "source": [
    "#Import graduates\n",
    "\n",
    "grads = pd.read_csv('FA23 Graduates.csv')\n",
    "grads.columns = [i.upper() for i in grads.columns]\n",
    "grads = grads.rename(columns = {'STUDENTID':'ID'})\n",
    "grads = grads[grads['STS'].isin(['AW', 'RT', 'PN'])]\n",
    "grads = grads[['ID', 'STS']]\n",
    "\n",
    "#Merge Graduates with final\n",
    "\n",
    "final = final.merge(grads, how = 'left', on = 'ID').drop_duplicates('ID')\n",
    "\n",
    "#There're ### students out of the FA23 cohort that gradauated. We remove them with the \n",
    "#code below. This leaves #### students who have not enrolled for Spring 2024 but have no holds\n",
    "#did not graduate, and are not international students.\n",
    "\n",
    "final = final[final['STS'].isnull()].reset_index(drop = True)"
   ]
  },
  {
   "cell_type": "code",
   "execution_count": null,
   "id": "05e049d5",
   "metadata": {
    "scrolled": true
   },
   "outputs": [],
   "source": [
    "print(\"There are \" + str(len(final[final['STYPE'] == \"H\"])) + \" High School Students unenrolled.\")\n",
    "print(\"And there are \" + str(len(grads)) + \" graduates for Spring 2023 that were removed.\")\n",
    "\n",
    "#There are ### High School Students unenrolled.\n",
    "#And there are ### graduates for Fall 2022 that were removed."
   ]
  },
  {
   "cell_type": "code",
   "execution_count": null,
   "id": "0e8f2e92",
   "metadata": {},
   "outputs": [],
   "source": [
    "len(final)"
   ]
  },
  {
   "cell_type": "code",
   "execution_count": null,
   "id": "34216cd3",
   "metadata": {},
   "outputs": [],
   "source": [
    "#Filter out High School Students\n",
    "final = final[final['STYPE'] != 'H'].reset_index(drop = True)"
   ]
  },
  {
   "cell_type": "code",
   "execution_count": null,
   "id": "c1834c22",
   "metadata": {},
   "outputs": [],
   "source": [
    "print(\"There are \" + str(len(final)) + \" students who have no holds, have not graduated, \\\n",
    "and are not high school students that still have not enrolled for Fall 2023.\")\n",
    "\n",
    "#There are ### students who have no holds, have not graduated, \n",
    "#and are not high school students that still have not enrolled for Spring 2024."
   ]
  },
  {
   "cell_type": "markdown",
   "id": "0a9c09a1",
   "metadata": {},
   "source": [
    "### Remove Unusable Marks\n",
    "\n",
    "Some of the majors will not export if there is a '/' or ':' in the major description. Therefore, I replaced that as shown below. \n"
   ]
  },
  {
   "cell_type": "code",
   "execution_count": null,
   "id": "cb779628",
   "metadata": {},
   "outputs": [],
   "source": [
    "final['MAJR_DESC'] = final['MAJR_DESC'].str.replace(r'/', ' ')\n",
    "final['MAJR_DESC'] = final['MAJR_DESC'].str.replace(r':', ' ')"
   ]
  },
  {
   "cell_type": "code",
   "execution_count": null,
   "id": "rolled-giant",
   "metadata": {},
   "outputs": [],
   "source": [
    "# Import data into several worksheets (https://www.easytweaks.com/pandas-save-to-excel-mutiple-sheets/)\n",
    "\n",
    "# First, split the data into a dataframe list, similar to what you do when\n",
    "# you use pd.concat()\n",
    "\n",
    "dfls = []\n",
    "\n",
    "for i in sorted(final['MAJR_DESC'].unique()):\n",
    "    temp = final[final['MAJR_DESC'] == i]\n",
    "    dfls.append(temp)\n",
    "\n",
    "Excelwriter = pd.ExcelWriter('202380 Not Enrolled in 202410.xlsx', engine = 'xlsxwriter')\n",
    "\n",
    "for df in dfls:\n",
    "    sheet = list(df['MAJR_DESC'].unique())[0]\n",
    "    df.to_excel(Excelwriter, sheet_name = sheet, index = False)\n",
    "\n",
    "Excelwriter.save()"
   ]
  },
  {
   "cell_type": "code",
   "execution_count": null,
   "id": "center-consciousness",
   "metadata": {},
   "outputs": [],
   "source": [
    "#I also want to print off a master sheet to excel that I can merge into the workbook\n",
    "#with all of the majors split into separate sheets.\n",
    "\n",
    "final.to_excel(r'202380 Not Enrolled in 202410 Master DF.xlsx', index = False, header=True)\n"
   ]
  },
  {
   "cell_type": "code",
   "execution_count": null,
   "id": "55d7b38e",
   "metadata": {
    "scrolled": false
   },
   "outputs": [],
   "source": [
    "#filter by major\n",
    "\n",
    "def filter_by_major(df, column, select):\n",
    "    \n",
    "    filt = df[column].isin(select)\n",
    "    new_df = df[filt].reset_index(drop = True)\n",
    "    \n",
    "    return new_df\n",
    "\n",
    "col = 'MAJR_DESC'\n",
    "\n",
    "selection = ['Culinary Arts', 'Hotel Management', 'Restaurant Management']\n",
    "\n",
    "filter_by_major(final, col, selection)"
   ]
  }
 ],
 "metadata": {
  "kernelspec": {
   "display_name": "Python 3 (ipykernel)",
   "language": "python",
   "name": "python3"
  },
  "language_info": {
   "codemirror_mode": {
    "name": "ipython",
    "version": 3
   },
   "file_extension": ".py",
   "mimetype": "text/x-python",
   "name": "python",
   "nbconvert_exporter": "python",
   "pygments_lexer": "ipython3",
   "version": "3.11.1"
  }
 },
 "nbformat": 4,
 "nbformat_minor": 5
}
